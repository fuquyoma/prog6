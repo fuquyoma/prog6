{
 "cells": [
  {
   "cell_type": "markdown",
   "metadata": {},
   "source": [
    "# Лабораторная работа: 2\n",
    "## Выполнил: Гневнов Артем Евгеньевич, ИВТ 2.1\n",
    "### Выполнение"
   ]
  },
  {
   "cell_type": "code",
   "execution_count": 2,
   "metadata": {},
   "outputs": [
    {
     "name": "stdout",
     "output_type": "stream",
     "text": [
      "1.Количество мужчин и женщин на пароходе: 577 314\n",
      "2.Количество пассажиров, загрузившиеся в портах 'S','C','Q': 644 168 77\n",
      "3.Число и процент погибших: 549 61.62%\n",
      "4.Доля пассажиров 1 класса: 24.24%, 2: 20.65%, 3: 55.11%\n",
      "5.Корреляция Пирсона между SibSp и Parch: 0.41\n",
      "6.Корреляцмя Пирсона между: Age-Survived: -0.08, Sex-Survived: -0.54, Class-Survived: -0.34\n",
      "7.Возраст пассажиров. Средний: 29.7, Медиана: 28.0, Мин: 0.4, Макс: 80.0\n",
      "8.Цена билета. Средняя: 32.20, Медиана: 14.45, Мин: 0.00, Макс: 512.33\n",
      "9.Самое популярное мужское имя: ('William',)\n",
      "10.Самое популярные имена людей после 15 лет. Мужское: ('William',), Женское: ('Elizabeth',)\n"
     ]
    }
   ],
   "source": [
    "import pandas as pd\n",
    "\n",
    "df = pd.read_csv('train.csv')\n",
    "\n",
    "# 1. Количество мужчин и женщин\n",
    "sex_counts = df['Sex'].value_counts()\n",
    "print(f\"1.Количество мужчин и женщин на пароходе: {sex_counts['male']} {sex_counts['female']}\")\n",
    "\n",
    "# 2. Пассажиры по портам посадки \n",
    "embarked_counts = df['Embarked'].value_counts()\n",
    "print(f\"2.Количество пассажиров, загрузившиеся в портах 'S','C','Q': {embarked_counts.get('S', 0)} {embarked_counts.get('C', 0)} {embarked_counts.get('Q', 0)}\")\n",
    "\n",
    "# 3. Доля погибших\n",
    "survived_counts = df['Survived'].value_counts()\n",
    "dead_count = survived_counts[0]\n",
    "dead_percent = (dead_count / len(df)) * 100\n",
    "print(f\"3.Число и процент погибших: {dead_count} {dead_percent:.2f}%\")\n",
    "\n",
    "# 4. Доли пассажиров по классам\n",
    "class_counts = df['Pclass'].value_counts(normalize=True) * 100\n",
    "print(f\"4.Доля пассажиров 1 класса: {class_counts[1]:.2f}%, 2: {class_counts[2]:.2f}%, 3: {class_counts[3]:.2f}%\")\n",
    "\n",
    "# 5. Корреляция SibSp и Parch\n",
    "corr_sibsp_parch = df[['SibSp', 'Parch']].corr().iloc[0, 1]\n",
    "print(f\"5.Корреляция Пирсона между SibSp и Parch: {corr_sibsp_parch:.2f}\")\n",
    "\n",
    "# 6. Корреляции Survived с возрастом, полом и классом\n",
    "# Возраст \n",
    "age_survived_corr = df[['Age', 'Survived']].dropna().corr().iloc[0, 1]\n",
    "# Пол \n",
    "df['Sex_encoded'] = df['Sex'].map({'male': 1, 'female': 0})\n",
    "sex_survived_corr = df[['Sex_encoded', 'Survived']].corr().iloc[0, 1]\n",
    "# Класс\n",
    "class_survived_corr = df[['Pclass', 'Survived']].corr().iloc[0, 1]\n",
    "print(f\"6.Корреляцмя Пирсона между: Age-Survived: {age_survived_corr:.2f}, Sex-Survived: {sex_survived_corr:.2f}, Class-Survived: {class_survived_corr:.2f}\")\n",
    "\n",
    "# 7. Статистика по возрасту\n",
    "age_stats = df['Age'].describe()\n",
    "print(f\"7.Возраст пассажиров. Средний: {age_stats['mean']:.1f}, Медиана: {age_stats['50%']:.1f}, Мин: {age_stats['min']:.1f}, Макс: {age_stats['max']:.1f}\")\n",
    "\n",
    "# 8. Статистика по ценам билетов\n",
    "fare_stats = df['Fare'].describe()\n",
    "print(f\"8.Цена билета. Средняя: {fare_stats['mean']:.2f}, Медиана: {fare_stats['50%']:.2f}, Мин: {fare_stats['min']:.2f}, Макс: {fare_stats['max']:.2f}\")\n",
    "\n",
    "# 9. Самое популярное мужское имя\n",
    "male_names = df[df['Sex'] == 'male']['Name'].str.extract(r',\\sMr\\.\\s([A-Za-z]+)')\n",
    "most_common_male = male_names.value_counts().idxmax()\n",
    "print(f\"9.Самое популярное мужское имя: {most_common_male}\")\n",
    "\n",
    "# 10. Популярные имена среди лиц старше 15 лет\n",
    "adult_passengers = df[df['Age'] > 15]\n",
    "# Мужчины\n",
    "adult_male_names = adult_passengers[adult_passengers['Sex'] == 'male']['Name'].str.extract(r',\\sMr\\.\\s([A-Za-z]+)')\n",
    "most_common_male_adult = adult_male_names.value_counts().idxmax()\n",
    "# Женщины\n",
    "adult_female_names = adult_passengers[adult_passengers['Sex'] == 'female']['Name'].str.extract(r',\\s(?:Mrs\\.|Miss\\.)\\s(?:\\w+\\s)?\\(?([A-Za-z]+)')\n",
    "most_common_female_adult = adult_female_names.value_counts().idxmax()\n",
    "print(f\"10.Самое популярные имена людей после 15 лет. Мужское: {most_common_male_adult}, Женское: {most_common_female_adult}\")"
   ]
  }
 ],
 "metadata": {
  "kernelspec": {
   "display_name": "Python 3",
   "language": "python",
   "name": "python3"
  },
  "language_info": {
   "codemirror_mode": {
    "name": "ipython",
    "version": 3
   },
   "file_extension": ".py",
   "mimetype": "text/x-python",
   "name": "python",
   "nbconvert_exporter": "python",
   "pygments_lexer": "ipython3",
   "version": "3.13.0"
  }
 },
 "nbformat": 4,
 "nbformat_minor": 2
}
